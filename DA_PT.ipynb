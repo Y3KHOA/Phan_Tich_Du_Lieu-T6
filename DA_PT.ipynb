{
  "nbformat": 4,
  "nbformat_minor": 0,
  "metadata": {
    "colab": {
      "name": "DA_PT.ipynb",
      "provenance": [],
      "collapsed_sections": [],
      "include_colab_link": true
    },
    "kernelspec": {
      "name": "python3",
      "display_name": "Python 3"
    },
    "language_info": {
      "name": "python"
    }
  },
  "cells": [
    {
      "cell_type": "markdown",
      "metadata": {
        "id": "view-in-github",
        "colab_type": "text"
      },
      "source": [
        "<a href=\"https://colab.research.google.com/github/Y3KHOA/Phan_Tich_Du_Lieu-T6/blob/main/DA_PT.ipynb\" target=\"_parent\"><img src=\"https://colab.research.google.com/assets/colab-badge.svg\" alt=\"Open In Colab\"/></a>"
      ]
    },
    {
      "cell_type": "markdown",
      "metadata": {
        "id": "BFunOCDjEmpI"
      },
      "source": [
        "ĐỒ ÁN KẾT THÚC MÔN HỌC\n",
        "Phân tích dữ liệu và dự báo\n",
        "GVHD: Nguyễn Trọng Nghĩa"
      ]
    },
    {
      "cell_type": "markdown",
      "metadata": {
        "id": "hR6yE7FBE1aE"
      },
      "source": [
        "Chương 1:\n",
        "Giới thiệu về tập dữ liệu:\n",
        "Đây là một tập dữ liệu nói về khả năng sống sót của bệnh nhân suy tim và các tình trạng liên quan.\n",
        "Tập dữ liệu này bao gồm khảo sát 299 bệnh nhân suy tim được thu thập vào năm 2015. Tập dữ liệu bao gồm 35% nữ , 65% nam và có độ tuổi từ 40 trở lên.\n",
        "Kích thước tập dữ liệu gồm 299 hàng (bệnh nhân) và 13 cột (tính năng)."
      ]
    },
    {
      "cell_type": "code",
      "metadata": {
        "id": "Z572wWFbE4Cf"
      },
      "source": [
        "#cài đặt các thư viện cần thiết cho bài toán:\n",
        "import numpy as np\n",
        "import pandas as pd\n",
        "import matplotlib.pyplot as plt\n",
        "import seaborn \n",
        "\n",
        "import statsmodels.formula.api as smf\n",
        "import statsmodels.stats.multicomp as multi\n",
        "\n",
        "import scipy.stats as st\n",
        "import statsmodels.api as sm\n",
        "\n"
      ],
      "execution_count": null,
      "outputs": []
    },
    {
      "cell_type": "code",
      "metadata": {
        "colab": {
          "base_uri": "https://localhost:8080/",
          "height": 406
        },
        "id": "8Gl5CcRBE6Yy",
        "outputId": "ccba2103-5f0f-4b36-f0cd-5d075ff61447"
      },
      "source": [
        "#đọc dữ liệu\n",
        "df= pd.read_csv('/content/drive/MyDrive/CSV/heart_failure_clinical_records_dataset.csv')\n",
        "df"
      ],
      "execution_count": null,
      "outputs": [
        {
          "output_type": "execute_result",
          "data": {
            "text/html": [
              "<div>\n",
              "<style scoped>\n",
              "    .dataframe tbody tr th:only-of-type {\n",
              "        vertical-align: middle;\n",
              "    }\n",
              "\n",
              "    .dataframe tbody tr th {\n",
              "        vertical-align: top;\n",
              "    }\n",
              "\n",
              "    .dataframe thead th {\n",
              "        text-align: right;\n",
              "    }\n",
              "</style>\n",
              "<table border=\"1\" class=\"dataframe\">\n",
              "  <thead>\n",
              "    <tr style=\"text-align: right;\">\n",
              "      <th></th>\n",
              "      <th>age</th>\n",
              "      <th>anaemia</th>\n",
              "      <th>creatinine_phosphokinase</th>\n",
              "      <th>diabetes</th>\n",
              "      <th>ejection_fraction</th>\n",
              "      <th>high_blood_pressure</th>\n",
              "      <th>platelets</th>\n",
              "      <th>serum_creatinine</th>\n",
              "      <th>serum_sodium</th>\n",
              "      <th>sex</th>\n",
              "      <th>smoking</th>\n",
              "      <th>time</th>\n",
              "      <th>DEATH_EVENT</th>\n",
              "    </tr>\n",
              "  </thead>\n",
              "  <tbody>\n",
              "    <tr>\n",
              "      <th>0</th>\n",
              "      <td>75.0</td>\n",
              "      <td>0</td>\n",
              "      <td>582</td>\n",
              "      <td>0</td>\n",
              "      <td>20</td>\n",
              "      <td>1</td>\n",
              "      <td>265000.00</td>\n",
              "      <td>1.9</td>\n",
              "      <td>130</td>\n",
              "      <td>1</td>\n",
              "      <td>0</td>\n",
              "      <td>4</td>\n",
              "      <td>1</td>\n",
              "    </tr>\n",
              "    <tr>\n",
              "      <th>1</th>\n",
              "      <td>55.0</td>\n",
              "      <td>0</td>\n",
              "      <td>7861</td>\n",
              "      <td>0</td>\n",
              "      <td>38</td>\n",
              "      <td>0</td>\n",
              "      <td>263358.03</td>\n",
              "      <td>1.1</td>\n",
              "      <td>136</td>\n",
              "      <td>1</td>\n",
              "      <td>0</td>\n",
              "      <td>6</td>\n",
              "      <td>1</td>\n",
              "    </tr>\n",
              "    <tr>\n",
              "      <th>2</th>\n",
              "      <td>65.0</td>\n",
              "      <td>0</td>\n",
              "      <td>146</td>\n",
              "      <td>0</td>\n",
              "      <td>20</td>\n",
              "      <td>0</td>\n",
              "      <td>162000.00</td>\n",
              "      <td>1.3</td>\n",
              "      <td>129</td>\n",
              "      <td>1</td>\n",
              "      <td>1</td>\n",
              "      <td>7</td>\n",
              "      <td>1</td>\n",
              "    </tr>\n",
              "    <tr>\n",
              "      <th>3</th>\n",
              "      <td>50.0</td>\n",
              "      <td>1</td>\n",
              "      <td>111</td>\n",
              "      <td>0</td>\n",
              "      <td>20</td>\n",
              "      <td>0</td>\n",
              "      <td>210000.00</td>\n",
              "      <td>1.9</td>\n",
              "      <td>137</td>\n",
              "      <td>1</td>\n",
              "      <td>0</td>\n",
              "      <td>7</td>\n",
              "      <td>1</td>\n",
              "    </tr>\n",
              "    <tr>\n",
              "      <th>4</th>\n",
              "      <td>65.0</td>\n",
              "      <td>1</td>\n",
              "      <td>160</td>\n",
              "      <td>1</td>\n",
              "      <td>20</td>\n",
              "      <td>0</td>\n",
              "      <td>327000.00</td>\n",
              "      <td>2.7</td>\n",
              "      <td>116</td>\n",
              "      <td>0</td>\n",
              "      <td>0</td>\n",
              "      <td>8</td>\n",
              "      <td>1</td>\n",
              "    </tr>\n",
              "    <tr>\n",
              "      <th>...</th>\n",
              "      <td>...</td>\n",
              "      <td>...</td>\n",
              "      <td>...</td>\n",
              "      <td>...</td>\n",
              "      <td>...</td>\n",
              "      <td>...</td>\n",
              "      <td>...</td>\n",
              "      <td>...</td>\n",
              "      <td>...</td>\n",
              "      <td>...</td>\n",
              "      <td>...</td>\n",
              "      <td>...</td>\n",
              "      <td>...</td>\n",
              "    </tr>\n",
              "    <tr>\n",
              "      <th>294</th>\n",
              "      <td>62.0</td>\n",
              "      <td>0</td>\n",
              "      <td>61</td>\n",
              "      <td>1</td>\n",
              "      <td>38</td>\n",
              "      <td>1</td>\n",
              "      <td>155000.00</td>\n",
              "      <td>1.1</td>\n",
              "      <td>143</td>\n",
              "      <td>1</td>\n",
              "      <td>1</td>\n",
              "      <td>270</td>\n",
              "      <td>0</td>\n",
              "    </tr>\n",
              "    <tr>\n",
              "      <th>295</th>\n",
              "      <td>55.0</td>\n",
              "      <td>0</td>\n",
              "      <td>1820</td>\n",
              "      <td>0</td>\n",
              "      <td>38</td>\n",
              "      <td>0</td>\n",
              "      <td>270000.00</td>\n",
              "      <td>1.2</td>\n",
              "      <td>139</td>\n",
              "      <td>0</td>\n",
              "      <td>0</td>\n",
              "      <td>271</td>\n",
              "      <td>0</td>\n",
              "    </tr>\n",
              "    <tr>\n",
              "      <th>296</th>\n",
              "      <td>45.0</td>\n",
              "      <td>0</td>\n",
              "      <td>2060</td>\n",
              "      <td>1</td>\n",
              "      <td>60</td>\n",
              "      <td>0</td>\n",
              "      <td>742000.00</td>\n",
              "      <td>0.8</td>\n",
              "      <td>138</td>\n",
              "      <td>0</td>\n",
              "      <td>0</td>\n",
              "      <td>278</td>\n",
              "      <td>0</td>\n",
              "    </tr>\n",
              "    <tr>\n",
              "      <th>297</th>\n",
              "      <td>45.0</td>\n",
              "      <td>0</td>\n",
              "      <td>2413</td>\n",
              "      <td>0</td>\n",
              "      <td>38</td>\n",
              "      <td>0</td>\n",
              "      <td>140000.00</td>\n",
              "      <td>1.4</td>\n",
              "      <td>140</td>\n",
              "      <td>1</td>\n",
              "      <td>1</td>\n",
              "      <td>280</td>\n",
              "      <td>0</td>\n",
              "    </tr>\n",
              "    <tr>\n",
              "      <th>298</th>\n",
              "      <td>50.0</td>\n",
              "      <td>0</td>\n",
              "      <td>196</td>\n",
              "      <td>0</td>\n",
              "      <td>45</td>\n",
              "      <td>0</td>\n",
              "      <td>395000.00</td>\n",
              "      <td>1.6</td>\n",
              "      <td>136</td>\n",
              "      <td>1</td>\n",
              "      <td>1</td>\n",
              "      <td>285</td>\n",
              "      <td>0</td>\n",
              "    </tr>\n",
              "  </tbody>\n",
              "</table>\n",
              "<p>299 rows × 13 columns</p>\n",
              "</div>"
            ],
            "text/plain": [
              "      age  anaemia  creatinine_phosphokinase  ...  smoking  time  DEATH_EVENT\n",
              "0    75.0        0                       582  ...        0     4            1\n",
              "1    55.0        0                      7861  ...        0     6            1\n",
              "2    65.0        0                       146  ...        1     7            1\n",
              "3    50.0        1                       111  ...        0     7            1\n",
              "4    65.0        1                       160  ...        0     8            1\n",
              "..    ...      ...                       ...  ...      ...   ...          ...\n",
              "294  62.0        0                        61  ...        1   270            0\n",
              "295  55.0        0                      1820  ...        0   271            0\n",
              "296  45.0        0                      2060  ...        0   278            0\n",
              "297  45.0        0                      2413  ...        1   280            0\n",
              "298  50.0        0                       196  ...        1   285            0\n",
              "\n",
              "[299 rows x 13 columns]"
            ]
          },
          "metadata": {},
          "execution_count": 39
        }
      ]
    },
    {
      "cell_type": "code",
      "metadata": {
        "colab": {
          "base_uri": "https://localhost:8080/"
        },
        "id": "UDmE6AsNF738",
        "outputId": "20d4894f-810f-4031-e229-22ba03e124b7"
      },
      "source": [
        "from google.colab import drive\n",
        "drive.mount('/content/drive')"
      ],
      "execution_count": null,
      "outputs": [
        {
          "output_type": "stream",
          "name": "stdout",
          "text": [
            "Drive already mounted at /content/drive; to attempt to forcibly remount, call drive.mount(\"/content/drive\", force_remount=True).\n"
          ]
        }
      ]
    },
    {
      "cell_type": "code",
      "metadata": {
        "id": "RKGGBnX7F8Yr"
      },
      "source": [
        "df['age']= pd.to_numeric(df['age'],errors='coerce')\n",
        "df['anaemia']= pd.to_numeric(df['anaemia'],errors='coerce')\n",
        "df['creatinine_phosphokinase']= pd.to_numeric(df['creatinine_phosphokinase'],errors='coerce')\n",
        "df['diabetes']= pd.to_numeric(df['diabetes'],errors='coerce')\n",
        "df['ejection_fraction']= pd.to_numeric(df['ejection_fraction'],errors='coerce')\n",
        "df['high_blood_pressure']= pd.to_numeric(df['high_blood_pressure'],errors='coerce')\n",
        "df['platelets']= pd.to_numeric(df['platelets'],errors='coerce')\n",
        "df['serum_creatinine']= pd.to_numeric(df['serum_creatinine'],errors='coerce')\n",
        "df['sex']= pd.to_numeric(df['sex'],errors='coerce')\n",
        "df['time']= pd.to_numeric(df['time'],errors='coerce')\n",
        "df['DEATH_EVENT']= pd.to_numeric(df['DEATH_EVENT'],errors='coerce')\n",
        "df['smoking']= pd.to_numeric(df['smoking'],errors='coerce')\n",
        "df['serum_sodium']= pd.to_numeric(df['serum_sodium'],errors='coerce')"
      ],
      "execution_count": null,
      "outputs": []
    },
    {
      "cell_type": "code",
      "metadata": {
        "id": "Kq22ExWCF_Bf"
      },
      "source": [
        "#Chương 3: Kiểm định giả thuyết\n"
      ],
      "execution_count": null,
      "outputs": []
    },
    {
      "cell_type": "code",
      "metadata": {
        "colab": {
          "base_uri": "https://localhost:8080/"
        },
        "id": "vgH7vzowlRHw",
        "outputId": "c2292d3f-322c-4e12-cdb6-b8016dc8e735"
      },
      "source": [
        "#ANOVA\n",
        "sub1=df.copy()\n",
        "sub1=df[(df['smoking']==1)]\n",
        "# print(sub1)\n",
        "\n",
        "\n",
        "ct1=sub1.groupby('age').size()\n",
        "ct2=sub1.groupby('DEATH_EVENT').size()\n",
        "\n",
        "\n",
        "#tính ANOVA\n",
        "print()\n",
        "print('Ở những người hút thuốc thì liệu độ tuổi có ảnh hưởng đến khả năng tử vong trong thời gian điều trị không?')\n",
        "model1=smf.ols(formula='age ~ C(DEATH_EVENT)',data=sub1)\n",
        "results1=model1.fit()\n",
        "print(results1.summary())\n",
        "\n",
        "print()\n",
        "print()\n"
      ],
      "execution_count": null,
      "outputs": [
        {
          "output_type": "stream",
          "name": "stdout",
          "text": [
            "\n",
            "Ở những người hút thuốc thì liệu độ tuổi có ảnh hưởng đến khả năng tử vong trong thời gian điều trị không?\n",
            "                            OLS Regression Results                            \n",
            "==============================================================================\n",
            "Dep. Variable:                    age   R-squared:                       0.143\n",
            "Model:                            OLS   Adj. R-squared:                  0.134\n",
            "Method:                 Least Squares   F-statistic:                     15.67\n",
            "Date:                Fri, 29 Oct 2021   Prob (F-statistic):           0.000147\n",
            "Time:                        09:12:38   Log-Likelihood:                -361.73\n",
            "No. Observations:                  96   AIC:                             727.5\n",
            "Df Residuals:                      94   BIC:                             732.6\n",
            "Df Model:                           1                                         \n",
            "Covariance Type:            nonrobust                                         \n",
            "=======================================================================================\n",
            "                          coef    std err          t      P>|t|      [0.025      0.975]\n",
            "---------------------------------------------------------------------------------------\n",
            "Intercept              58.2727      1.303     44.719      0.000      55.685      60.860\n",
            "C(DEATH_EVENT)[T.1]     9.2273      2.331      3.958      0.000       4.599      13.856\n",
            "==============================================================================\n",
            "Omnibus:                        3.722   Durbin-Watson:                   1.941\n",
            "Prob(Omnibus):                  0.155   Jarque-Bera (JB):                2.419\n",
            "Skew:                           0.192   Prob(JB):                        0.298\n",
            "Kurtosis:                       2.324   Cond. No.                         2.42\n",
            "==============================================================================\n",
            "\n",
            "Warnings:\n",
            "[1] Standard Errors assume that the covariance matrix of the errors is correctly specified.\n",
            "\n",
            "\n"
          ]
        }
      ]
    },
    {
      "cell_type": "code",
      "metadata": {
        "colab": {
          "base_uri": "https://localhost:8080/"
        },
        "id": "KRrc8rTiplI5",
        "outputId": "70334db6-9d4e-4f91-a8c8-bcc11a2227be"
      },
      "source": [
        "#Mối liên hệ sự sống giữa phần trăm máu co bóp tim mỗi lần co bóp và thời gian bị bệnh\n",
        "\n",
        "\n",
        "sub2=df[['ejection_fraction','time']]\n",
        "\n",
        "\n",
        "sub2['ejection_fraction']=pd.to_numeric(sub2['ejection_fraction'], errors='coerce')\n",
        "sub2['time']=pd.to_numeric(sub2['time'], errors='coerce')\n",
        "\n",
        "# print(df['platelets'].value_counts())\n",
        "\n",
        "sub2['ejection_fraction_1']=pd.qcut(sub2['ejection_fraction'],4,labels=['17% - 28%','29% - 40% ','41%-52%','>53%'])\n",
        "c6=sub1['ejection_fraction'].value_counts().sort_index()\n",
        "print(sub2.groupby('ejection_fraction_1').size())\n",
        "\n",
        "model2 = smf.ols(formula='time ~ ejection_fraction_1', data=sub2)\n",
        "results2=model2.fit()\n",
        "print(results2.summary())\n",
        "\n",
        "print()\n",
        "\n",
        "print('Tính trung bình cho ejection_fraction')\n",
        "m2=sub2.groupby('ejection_fraction_1').mean()\n",
        "print(m2['time'])\n",
        "\n",
        "\n",
        "print('Tính độ lệch chuẩn cho ejection_fraction')\n",
        "sd2=sub2.groupby('ejection_fraction_1').std()\n",
        "print(sd2['time'])\n",
        "\n",
        "\n"
      ],
      "execution_count": null,
      "outputs": [
        {
          "output_type": "stream",
          "name": "stdout",
          "text": [
            "ejection_fraction_1\n",
            "17% - 28%     93\n",
            "29% - 40%     89\n",
            "41%-52%       57\n",
            ">53%          60\n",
            "dtype: int64\n",
            "                            OLS Regression Results                            \n",
            "==============================================================================\n",
            "Dep. Variable:                   time   R-squared:                       0.041\n",
            "Model:                            OLS   Adj. R-squared:                  0.032\n",
            "Method:                 Least Squares   F-statistic:                     4.245\n",
            "Date:                Fri, 29 Oct 2021   Prob (F-statistic):            0.00588\n",
            "Time:                        09:18:19   Log-Likelihood:                -1718.6\n",
            "No. Observations:                 299   AIC:                             3445.\n",
            "Df Residuals:                     295   BIC:                             3460.\n",
            "Df Model:                           3                                         \n",
            "Covariance Type:            nonrobust                                         \n",
            "=====================================================================================================\n",
            "                                        coef    std err          t      P>|t|      [0.025      0.975]\n",
            "-----------------------------------------------------------------------------------------------------\n",
            "Intercept                           113.1183      7.920     14.283      0.000      97.532     128.705\n",
            "ejection_fraction_1[T.29% - 40% ]    35.9716     11.326      3.176      0.002      13.682      58.261\n",
            "ejection_fraction_1[T.41%-52%]       28.1975     12.848      2.195      0.029       2.913      53.482\n",
            "ejection_fraction_1[T.>53%]           5.2817     12.647      0.418      0.677     -19.608      30.172\n",
            "==============================================================================\n",
            "Omnibus:                      130.110   Durbin-Watson:                   0.084\n",
            "Prob(Omnibus):                  0.000   Jarque-Bera (JB):               17.208\n",
            "Skew:                           0.080   Prob(JB):                     0.000183\n",
            "Kurtosis:                       1.836   Cond. No.                         4.42\n",
            "==============================================================================\n",
            "\n",
            "Warnings:\n",
            "[1] Standard Errors assume that the covariance matrix of the errors is correctly specified.\n",
            "\n",
            "Tính trung bình cho ejection_fraction\n",
            "ejection_fraction_1\n",
            "17% - 28%     113.118280\n",
            "29% - 40%     149.089888\n",
            "41%-52%       141.315789\n",
            ">53%          118.400000\n",
            "Name: time, dtype: float64\n",
            "Tính độ lệch chuẩn cho ejection_fraction\n",
            "ejection_fraction_1\n",
            "17% - 28%     75.124078\n",
            "29% - 40%     83.727730\n",
            "41%-52%       71.613835\n",
            ">53%          71.013295\n",
            "Name: time, dtype: float64\n"
          ]
        },
        {
          "output_type": "stream",
          "name": "stderr",
          "text": [
            "/usr/local/lib/python3.7/dist-packages/ipykernel_launcher.py:7: SettingWithCopyWarning: \n",
            "A value is trying to be set on a copy of a slice from a DataFrame.\n",
            "Try using .loc[row_indexer,col_indexer] = value instead\n",
            "\n",
            "See the caveats in the documentation: https://pandas.pydata.org/pandas-docs/stable/user_guide/indexing.html#returning-a-view-versus-a-copy\n",
            "  import sys\n",
            "/usr/local/lib/python3.7/dist-packages/ipykernel_launcher.py:8: SettingWithCopyWarning: \n",
            "A value is trying to be set on a copy of a slice from a DataFrame.\n",
            "Try using .loc[row_indexer,col_indexer] = value instead\n",
            "\n",
            "See the caveats in the documentation: https://pandas.pydata.org/pandas-docs/stable/user_guide/indexing.html#returning-a-view-versus-a-copy\n",
            "  \n",
            "/usr/local/lib/python3.7/dist-packages/ipykernel_launcher.py:12: SettingWithCopyWarning: \n",
            "A value is trying to be set on a copy of a slice from a DataFrame.\n",
            "Try using .loc[row_indexer,col_indexer] = value instead\n",
            "\n",
            "See the caveats in the documentation: https://pandas.pydata.org/pandas-docs/stable/user_guide/indexing.html#returning-a-view-versus-a-copy\n",
            "  if sys.path[0] == '':\n"
          ]
        }
      ]
    },
    {
      "cell_type": "code",
      "metadata": {
        "id": "JCU9QdbuqQX5"
      },
      "source": [
        ""
      ],
      "execution_count": null,
      "outputs": []
    },
    {
      "cell_type": "code",
      "metadata": {
        "colab": {
          "base_uri": "https://localhost:8080/"
        },
        "id": "vBY80DTOGCxg",
        "outputId": "bd078e01-a66f-45ad-b8b7-8fe32f764ff1"
      },
      "source": [
        "\n",
        "#phân tích sâu\n",
        "mc1=multi.MultiComparison(sub2['time'],sub2['ejection_fraction_1'])\n",
        "res1=mc1.tukeyhsd()\n",
        "print(res1.summary())\n"
      ],
      "execution_count": null,
      "outputs": [
        {
          "output_type": "stream",
          "name": "stdout",
          "text": [
            "     Multiple Comparison of Means - Tukey HSD, FWER=0.05     \n",
            "=============================================================\n",
            "  group1     group2   meandiff p-adj   lower    upper  reject\n",
            "-------------------------------------------------------------\n",
            " 17% - 28% 29% - 40%   35.9716 0.0089   6.7082  65.235   True\n",
            " 17% - 28%    41%-52%  28.1975 0.1269   -4.999  61.394  False\n",
            " 17% - 28%       >53%   5.2817    0.9 -27.3962 37.9596  False\n",
            "29% - 40%     41%-52%  -7.7741    0.9 -41.2528 25.7047  False\n",
            "29% - 40%        >53% -30.6899 0.0784 -63.6545  2.2747  False\n",
            "   41%-52%       >53% -22.9158 0.3685 -59.4168 13.5852  False\n",
            "-------------------------------------------------------------\n"
          ]
        }
      ]
    },
    {
      "cell_type": "code",
      "metadata": {
        "colab": {
          "base_uri": "https://localhost:8080/"
        },
        "id": "uhPmP8Xj203D",
        "outputId": "af1967bc-c612-48ee-d252-a12063bc6ceb"
      },
      "source": [
        "#Chi-quare\n",
        "data=df.copy()\n",
        "sub1 = data.copy()\n",
        "print(sub1['age'].min())"
      ],
      "execution_count": null,
      "outputs": [
        {
          "output_type": "stream",
          "name": "stdout",
          "text": [
            "40.0\n"
          ]
        }
      ]
    },
    {
      "cell_type": "code",
      "metadata": {
        "colab": {
          "base_uri": "https://localhost:8080/"
        },
        "id": "KMtExwl0282k",
        "outputId": "c17f7e78-150f-4d19-e818-8a0c08551737"
      },
      "source": [
        "sub1['ser_1'] = pd.qcut(sub1.age,5,labels=[\"40 - 50\",\"51- 61\",\"62 - 72\",\"73 - 83\",\" >83\"])\n",
        "c6=sub1['ser_1'].value_counts().sort_index()\n",
        "sub3 = sub1[['time','ser_1']].dropna()\n",
        "print (sub3['ser_1'].value_counts().sort_index())"
      ],
      "execution_count": null,
      "outputs": [
        {
          "output_type": "stream",
          "name": "stdout",
          "text": [
            "40 - 50    74\n",
            "51- 61     51\n",
            "62 - 72    56\n",
            "73 - 83    66\n",
            " >83       52\n",
            "Name: ser_1, dtype: int64\n"
          ]
        }
      ]
    },
    {
      "cell_type": "code",
      "metadata": {
        "colab": {
          "base_uri": "https://localhost:8080/"
        },
        "id": "GY_ZnFN86yPl",
        "outputId": "dfc61e47-7845-45f0-c462-0e27938ed2ce"
      },
      "source": [
        "ct1=pd.crosstab(sub1['time'], sub1['ser_1'])\n",
        "print (ct1)\n",
        "# phần trăm cột\n",
        "colsum=ct1.sum(axis=0)\n",
        "colpct=ct1/colsum\n",
        "print(colpct)"
      ],
      "execution_count": null,
      "outputs": [
        {
          "output_type": "stream",
          "name": "stdout",
          "text": [
            "ser_1  40 - 50  51- 61  62 - 72  73 - 83   >83\n",
            "time                                          \n",
            "4            0       0        0        0     1\n",
            "6            0       1        0        0     0\n",
            "7            1       0        0        1     0\n",
            "8            0       0        0        1     1\n",
            "10           0       0        2        1     3\n",
            "...        ...     ...      ...      ...   ...\n",
            "270          0       0        2        0     0\n",
            "271          0       1        0        0     0\n",
            "278          1       0        0        0     0\n",
            "280          1       0        0        0     0\n",
            "285          1       0        0        0     0\n",
            "\n",
            "[148 rows x 5 columns]\n",
            "ser_1   40 - 50    51- 61   62 - 72   73 - 83       >83\n",
            "time                                                   \n",
            "4      0.000000  0.000000  0.000000  0.000000  0.019231\n",
            "6      0.000000  0.019608  0.000000  0.000000  0.000000\n",
            "7      0.013514  0.000000  0.000000  0.015152  0.000000\n",
            "8      0.000000  0.000000  0.000000  0.015152  0.019231\n",
            "10     0.000000  0.000000  0.035714  0.015152  0.057692\n",
            "...         ...       ...       ...       ...       ...\n",
            "270    0.000000  0.000000  0.035714  0.000000  0.000000\n",
            "271    0.000000  0.019608  0.000000  0.000000  0.000000\n",
            "278    0.013514  0.000000  0.000000  0.000000  0.000000\n",
            "280    0.013514  0.000000  0.000000  0.000000  0.000000\n",
            "285    0.013514  0.000000  0.000000  0.000000  0.000000\n",
            "\n",
            "[148 rows x 5 columns]\n"
          ]
        }
      ]
    },
    {
      "cell_type": "code",
      "metadata": {
        "colab": {
          "base_uri": "https://localhost:8080/"
        },
        "id": "drhjTYDx624W",
        "outputId": "f48e2c94-c10a-4a81-ef70-f9e8b187907c"
      },
      "source": [
        "# chi-square test\n",
        "print ('chi-square, giá trị p, các số đếm mong đợi')\n",
        "cs1= st.chi2_contingency(ct1)\n",
        "print (cs1)"
      ],
      "execution_count": null,
      "outputs": [
        {
          "output_type": "stream",
          "name": "stdout",
          "text": [
            "chi-square, giá trị p, các số đếm mong đợi\n",
            "(564.2114764722432, 0.7529369612716356, 588, array([[0.24749164, 0.17056856, 0.18729097, 0.22073579, 0.17391304],\n",
            "       [0.24749164, 0.17056856, 0.18729097, 0.22073579, 0.17391304],\n",
            "       [0.49498328, 0.34113712, 0.37458194, 0.44147157, 0.34782609],\n",
            "       [0.49498328, 0.34113712, 0.37458194, 0.44147157, 0.34782609],\n",
            "       [1.48494983, 1.02341137, 1.12374582, 1.32441472, 1.04347826],\n",
            "       [0.49498328, 0.34113712, 0.37458194, 0.44147157, 0.34782609],\n",
            "       [0.24749164, 0.17056856, 0.18729097, 0.22073579, 0.17391304],\n",
            "       [0.24749164, 0.17056856, 0.18729097, 0.22073579, 0.17391304],\n",
            "       [0.49498328, 0.34113712, 0.37458194, 0.44147157, 0.34782609],\n",
            "       [0.49498328, 0.34113712, 0.37458194, 0.44147157, 0.34782609],\n",
            "       [0.24749164, 0.17056856, 0.18729097, 0.22073579, 0.17391304],\n",
            "       [0.49498328, 0.34113712, 0.37458194, 0.44147157, 0.34782609],\n",
            "       [0.24749164, 0.17056856, 0.18729097, 0.22073579, 0.17391304],\n",
            "       [0.49498328, 0.34113712, 0.37458194, 0.44147157, 0.34782609],\n",
            "       [0.24749164, 0.17056856, 0.18729097, 0.22073579, 0.17391304],\n",
            "       [0.74247492, 0.51170569, 0.56187291, 0.66220736, 0.52173913],\n",
            "       [0.24749164, 0.17056856, 0.18729097, 0.22073579, 0.17391304],\n",
            "       [0.49498328, 0.34113712, 0.37458194, 0.44147157, 0.34782609],\n",
            "       [0.49498328, 0.34113712, 0.37458194, 0.44147157, 0.34782609],\n",
            "       [1.23745819, 0.85284281, 0.93645485, 1.10367893, 0.86956522],\n",
            "       [0.24749164, 0.17056856, 0.18729097, 0.22073579, 0.17391304],\n",
            "       [0.24749164, 0.17056856, 0.18729097, 0.22073579, 0.17391304],\n",
            "       [0.74247492, 0.51170569, 0.56187291, 0.66220736, 0.52173913],\n",
            "       [0.24749164, 0.17056856, 0.18729097, 0.22073579, 0.17391304],\n",
            "       [0.24749164, 0.17056856, 0.18729097, 0.22073579, 0.17391304],\n",
            "       [0.24749164, 0.17056856, 0.18729097, 0.22073579, 0.17391304],\n",
            "       [0.24749164, 0.17056856, 0.18729097, 0.22073579, 0.17391304],\n",
            "       [0.24749164, 0.17056856, 0.18729097, 0.22073579, 0.17391304],\n",
            "       [0.74247492, 0.51170569, 0.56187291, 0.66220736, 0.52173913],\n",
            "       [0.24749164, 0.17056856, 0.18729097, 0.22073579, 0.17391304],\n",
            "       [0.24749164, 0.17056856, 0.18729097, 0.22073579, 0.17391304],\n",
            "       [0.24749164, 0.17056856, 0.18729097, 0.22073579, 0.17391304],\n",
            "       [0.49498328, 0.34113712, 0.37458194, 0.44147157, 0.34782609],\n",
            "       [0.24749164, 0.17056856, 0.18729097, 0.22073579, 0.17391304],\n",
            "       [0.24749164, 0.17056856, 0.18729097, 0.22073579, 0.17391304],\n",
            "       [0.74247492, 0.51170569, 0.56187291, 0.66220736, 0.52173913],\n",
            "       [0.24749164, 0.17056856, 0.18729097, 0.22073579, 0.17391304],\n",
            "       [0.24749164, 0.17056856, 0.18729097, 0.22073579, 0.17391304],\n",
            "       [0.24749164, 0.17056856, 0.18729097, 0.22073579, 0.17391304],\n",
            "       [0.49498328, 0.34113712, 0.37458194, 0.44147157, 0.34782609],\n",
            "       [0.24749164, 0.17056856, 0.18729097, 0.22073579, 0.17391304],\n",
            "       [0.24749164, 0.17056856, 0.18729097, 0.22073579, 0.17391304],\n",
            "       [0.24749164, 0.17056856, 0.18729097, 0.22073579, 0.17391304],\n",
            "       [0.24749164, 0.17056856, 0.18729097, 0.22073579, 0.17391304],\n",
            "       [0.49498328, 0.34113712, 0.37458194, 0.44147157, 0.34782609],\n",
            "       [0.49498328, 0.34113712, 0.37458194, 0.44147157, 0.34782609],\n",
            "       [0.98996656, 0.68227425, 0.74916388, 0.88294314, 0.69565217],\n",
            "       [0.24749164, 0.17056856, 0.18729097, 0.22073579, 0.17391304],\n",
            "       [0.24749164, 0.17056856, 0.18729097, 0.22073579, 0.17391304],\n",
            "       [0.24749164, 0.17056856, 0.18729097, 0.22073579, 0.17391304],\n",
            "       [0.49498328, 0.34113712, 0.37458194, 0.44147157, 0.34782609],\n",
            "       [1.23745819, 0.85284281, 0.93645485, 1.10367893, 0.86956522],\n",
            "       [0.49498328, 0.34113712, 0.37458194, 0.44147157, 0.34782609],\n",
            "       [0.49498328, 0.34113712, 0.37458194, 0.44147157, 0.34782609],\n",
            "       [0.74247492, 0.51170569, 0.56187291, 0.66220736, 0.52173913],\n",
            "       [0.49498328, 0.34113712, 0.37458194, 0.44147157, 0.34782609],\n",
            "       [0.24749164, 0.17056856, 0.18729097, 0.22073579, 0.17391304],\n",
            "       [1.23745819, 0.85284281, 0.93645485, 1.10367893, 0.86956522],\n",
            "       [1.23745819, 0.85284281, 0.93645485, 1.10367893, 0.86956522],\n",
            "       [0.98996656, 0.68227425, 0.74916388, 0.88294314, 0.69565217],\n",
            "       [0.49498328, 0.34113712, 0.37458194, 0.44147157, 0.34782609],\n",
            "       [0.74247492, 0.51170569, 0.56187291, 0.66220736, 0.52173913],\n",
            "       [1.23745819, 0.85284281, 0.93645485, 1.10367893, 0.86956522],\n",
            "       [0.24749164, 0.17056856, 0.18729097, 0.22073579, 0.17391304],\n",
            "       [0.24749164, 0.17056856, 0.18729097, 0.22073579, 0.17391304],\n",
            "       [0.24749164, 0.17056856, 0.18729097, 0.22073579, 0.17391304],\n",
            "       [0.49498328, 0.34113712, 0.37458194, 0.44147157, 0.34782609],\n",
            "       [0.24749164, 0.17056856, 0.18729097, 0.22073579, 0.17391304],\n",
            "       [0.24749164, 0.17056856, 0.18729097, 0.22073579, 0.17391304],\n",
            "       [1.48494983, 1.02341137, 1.12374582, 1.32441472, 1.04347826],\n",
            "       [0.74247492, 0.51170569, 0.56187291, 0.66220736, 0.52173913],\n",
            "       [0.74247492, 0.51170569, 0.56187291, 0.66220736, 0.52173913],\n",
            "       [0.24749164, 0.17056856, 0.18729097, 0.22073579, 0.17391304],\n",
            "       [0.24749164, 0.17056856, 0.18729097, 0.22073579, 0.17391304],\n",
            "       [0.49498328, 0.34113712, 0.37458194, 0.44147157, 0.34782609],\n",
            "       [0.49498328, 0.34113712, 0.37458194, 0.44147157, 0.34782609],\n",
            "       [0.49498328, 0.34113712, 0.37458194, 0.44147157, 0.34782609],\n",
            "       [0.24749164, 0.17056856, 0.18729097, 0.22073579, 0.17391304],\n",
            "       [0.24749164, 0.17056856, 0.18729097, 0.22073579, 0.17391304],\n",
            "       [0.24749164, 0.17056856, 0.18729097, 0.22073579, 0.17391304],\n",
            "       [0.98996656, 0.68227425, 0.74916388, 0.88294314, 0.69565217],\n",
            "       [0.98996656, 0.68227425, 0.74916388, 0.88294314, 0.69565217],\n",
            "       [0.24749164, 0.17056856, 0.18729097, 0.22073579, 0.17391304],\n",
            "       [0.24749164, 0.17056856, 0.18729097, 0.22073579, 0.17391304],\n",
            "       [0.24749164, 0.17056856, 0.18729097, 0.22073579, 0.17391304],\n",
            "       [0.24749164, 0.17056856, 0.18729097, 0.22073579, 0.17391304],\n",
            "       [0.24749164, 0.17056856, 0.18729097, 0.22073579, 0.17391304],\n",
            "       [0.24749164, 0.17056856, 0.18729097, 0.22073579, 0.17391304],\n",
            "       [0.24749164, 0.17056856, 0.18729097, 0.22073579, 0.17391304],\n",
            "       [0.49498328, 0.34113712, 0.37458194, 0.44147157, 0.34782609],\n",
            "       [1.23745819, 0.85284281, 0.93645485, 1.10367893, 0.86956522],\n",
            "       [0.98996656, 0.68227425, 0.74916388, 0.88294314, 0.69565217],\n",
            "       [0.24749164, 0.17056856, 0.18729097, 0.22073579, 0.17391304],\n",
            "       [0.24749164, 0.17056856, 0.18729097, 0.22073579, 0.17391304],\n",
            "       [0.24749164, 0.17056856, 0.18729097, 0.22073579, 0.17391304],\n",
            "       [0.24749164, 0.17056856, 0.18729097, 0.22073579, 0.17391304],\n",
            "       [0.24749164, 0.17056856, 0.18729097, 0.22073579, 0.17391304],\n",
            "       [0.24749164, 0.17056856, 0.18729097, 0.22073579, 0.17391304],\n",
            "       [0.74247492, 0.51170569, 0.56187291, 0.66220736, 0.52173913],\n",
            "       [0.74247492, 0.51170569, 0.56187291, 0.66220736, 0.52173913],\n",
            "       [0.24749164, 0.17056856, 0.18729097, 0.22073579, 0.17391304],\n",
            "       [0.74247492, 0.51170569, 0.56187291, 0.66220736, 0.52173913],\n",
            "       [0.24749164, 0.17056856, 0.18729097, 0.22073579, 0.17391304],\n",
            "       [1.48494983, 1.02341137, 1.12374582, 1.32441472, 1.04347826],\n",
            "       [1.73244147, 1.19397993, 1.31103679, 1.5451505 , 1.2173913 ],\n",
            "       [0.24749164, 0.17056856, 0.18729097, 0.22073579, 0.17391304],\n",
            "       [0.49498328, 0.34113712, 0.37458194, 0.44147157, 0.34782609],\n",
            "       [0.24749164, 0.17056856, 0.18729097, 0.22073579, 0.17391304],\n",
            "       [0.24749164, 0.17056856, 0.18729097, 0.22073579, 0.17391304],\n",
            "       [0.24749164, 0.17056856, 0.18729097, 0.22073579, 0.17391304],\n",
            "       [0.49498328, 0.34113712, 0.37458194, 0.44147157, 0.34782609],\n",
            "       [0.49498328, 0.34113712, 0.37458194, 0.44147157, 0.34782609],\n",
            "       [0.24749164, 0.17056856, 0.18729097, 0.22073579, 0.17391304],\n",
            "       [0.24749164, 0.17056856, 0.18729097, 0.22073579, 0.17391304],\n",
            "       [0.49498328, 0.34113712, 0.37458194, 0.44147157, 0.34782609],\n",
            "       [0.74247492, 0.51170569, 0.56187291, 0.66220736, 0.52173913],\n",
            "       [0.24749164, 0.17056856, 0.18729097, 0.22073579, 0.17391304],\n",
            "       [0.74247492, 0.51170569, 0.56187291, 0.66220736, 0.52173913],\n",
            "       [0.24749164, 0.17056856, 0.18729097, 0.22073579, 0.17391304],\n",
            "       [1.23745819, 0.85284281, 0.93645485, 1.10367893, 0.86956522],\n",
            "       [0.49498328, 0.34113712, 0.37458194, 0.44147157, 0.34782609],\n",
            "       [0.24749164, 0.17056856, 0.18729097, 0.22073579, 0.17391304],\n",
            "       [0.74247492, 0.51170569, 0.56187291, 0.66220736, 0.52173913],\n",
            "       [0.74247492, 0.51170569, 0.56187291, 0.66220736, 0.52173913],\n",
            "       [1.23745819, 0.85284281, 0.93645485, 1.10367893, 0.86956522],\n",
            "       [0.98996656, 0.68227425, 0.74916388, 0.88294314, 0.69565217],\n",
            "       [0.24749164, 0.17056856, 0.18729097, 0.22073579, 0.17391304],\n",
            "       [0.24749164, 0.17056856, 0.18729097, 0.22073579, 0.17391304],\n",
            "       [0.49498328, 0.34113712, 0.37458194, 0.44147157, 0.34782609],\n",
            "       [0.24749164, 0.17056856, 0.18729097, 0.22073579, 0.17391304],\n",
            "       [0.49498328, 0.34113712, 0.37458194, 0.44147157, 0.34782609],\n",
            "       [0.24749164, 0.17056856, 0.18729097, 0.22073579, 0.17391304],\n",
            "       [0.49498328, 0.34113712, 0.37458194, 0.44147157, 0.34782609],\n",
            "       [0.24749164, 0.17056856, 0.18729097, 0.22073579, 0.17391304],\n",
            "       [0.24749164, 0.17056856, 0.18729097, 0.22073579, 0.17391304],\n",
            "       [1.23745819, 0.85284281, 0.93645485, 1.10367893, 0.86956522],\n",
            "       [1.23745819, 0.85284281, 0.93645485, 1.10367893, 0.86956522],\n",
            "       [0.74247492, 0.51170569, 0.56187291, 0.66220736, 0.52173913],\n",
            "       [0.24749164, 0.17056856, 0.18729097, 0.22073579, 0.17391304],\n",
            "       [1.73244147, 1.19397993, 1.31103679, 1.5451505 , 1.2173913 ],\n",
            "       [0.49498328, 0.34113712, 0.37458194, 0.44147157, 0.34782609],\n",
            "       [0.24749164, 0.17056856, 0.18729097, 0.22073579, 0.17391304],\n",
            "       [0.49498328, 0.34113712, 0.37458194, 0.44147157, 0.34782609],\n",
            "       [0.49498328, 0.34113712, 0.37458194, 0.44147157, 0.34782609],\n",
            "       [0.24749164, 0.17056856, 0.18729097, 0.22073579, 0.17391304],\n",
            "       [0.24749164, 0.17056856, 0.18729097, 0.22073579, 0.17391304],\n",
            "       [0.24749164, 0.17056856, 0.18729097, 0.22073579, 0.17391304],\n",
            "       [0.24749164, 0.17056856, 0.18729097, 0.22073579, 0.17391304]]))\n"
          ]
        }
      ]
    },
    {
      "cell_type": "code",
      "metadata": {
        "id": "r0s6JAFl64F8"
      },
      "source": [
        "# thiết lập loại biến là phân loại\n",
        "sub1[\"ser_1\"] = sub1[\"ser_1\"].astype('category')\n",
        "sub1['time'] = pd.to_numeric(sub1['time'], errors='coerce')"
      ],
      "execution_count": null,
      "outputs": []
    },
    {
      "cell_type": "code",
      "metadata": {
        "colab": {
          "base_uri": "https://localhost:8080/",
          "height": 385
        },
        "id": "GSM6GWjd67F8",
        "outputId": "1f0568b5-afef-48be-eea8-00608453039c"
      },
      "source": [
        "# vẽ đồ thị phần trăm\n",
        "seaborn.catplot(x=\"ser_1\", y=\"time\", data=sub1, kind=\"bar\", ci=None)\n",
        "plt.xlabel('Nhóm Tuổi ')\n",
        "plt.ylabel('thời gian nghỉ dưỡng')"
      ],
      "execution_count": null,
      "outputs": [
        {
          "output_type": "execute_result",
          "data": {
            "text/plain": [
              "Text(3.674999999999997, 0.5, 'thời gian nghỉ dưỡng')"
            ]
          },
          "metadata": {},
          "execution_count": 68
        },
        {
          "output_type": "display_data",
          "data": {
            "image/png": "[encoded data removed]",
            "text/plain": [
              "<Figure size 360x360 with 1 Axes>"
            ]
          },
          "metadata": {
            "needs_background": "light"
          }
        }
      ]
    },
    {
      "cell_type": "code",
      "metadata": {
        "colab": {
          "base_uri": "https://localhost:8080/"
        },
        "id": "m7W2dCQz7eUX",
        "outputId": "c98baa23-31f7-494e-e53f-cfac534a7e04"
      },
      "source": [
        "# phân tích sâu nhóm (40 - 50) và (51 - 61)\n",
        "\n",
        "c1 = sub1[(sub1['ser_1'] == \"40 - 50\")]\n",
        "\n",
        "c2 = sub1[(sub1['ser_1']== \"51- 61\")]\n",
        "\n",
        "c3 = c1.append(c2)\n",
        "\n",
        "\n",
        "ct1=pd.crosstab(c3['ser_1'], sub1['time'])\n",
        "print (ct1)\n",
        "\n"
      ],
      "execution_count": null,
      "outputs": [
        {
          "output_type": "stream",
          "name": "stdout",
          "text": [
            "time     6    7    11   12   14   15   22   ...  250  257  258  271  278  280  285\n",
            "ser_1                                       ...                                   \n",
            "40 - 50    0    1    2    1    1    1    0  ...    3    1    0    0    1    1    1\n",
            "51- 61     1    0    0    0    0    0    1  ...    1    0    1    1    0    0    0\n",
            "\n",
            "[2 rows x 87 columns]\n"
          ]
        }
      ]
    },
    {
      "cell_type": "code",
      "metadata": {
        "colab": {
          "base_uri": "https://localhost:8080/",
          "height": 315
        },
        "id": "AVl2KJHBF1o9",
        "outputId": "4113fed4-7a07-4c61-860f-dc3372ea2bc4"
      },
      "source": [
        "scat1 = seaborn.regplot(x=\"age\", y=\"time\", data=data)\n",
        "plt.xlabel('Độ tuổi')\n",
        "plt.ylabel('Thời gian theo dõi bệnh')\n",
        "plt.title('Scatterplot cho mối liên hệ giữa thời gian theo dõi bệnh và tuổi')"
      ],
      "execution_count": null,
      "outputs": [
        {
          "output_type": "execute_result",
          "data": {
            "text/plain": [
              "Text(0.5, 1.0, 'Scatterplot cho mối liên hệ giữa thời gian theo dõi bệnh và tuổi')"
            ]
          },
          "metadata": {},
          "execution_count": 71
        },
        {
          "output_type": "display_data",
          "data": {
            "image/png": "[encoded data removed]",
            "text/plain": [
              "<Figure size 432x288 with 1 Axes>"
            ]
          },
          "metadata": {
            "needs_background": "light"
          }
        }
      ]
    },
    {
      "cell_type": "code",
      "metadata": {
        "colab": {
          "base_uri": "https://localhost:8080/"
        },
        "id": "zFDoevDLF4bi",
        "outputId": "8ebcf3b5-2c17-4c43-8fef-f62f66ce4395"
      },
      "source": [
        "print ('mối liên hệ giữa thời gian theo dõi và tuổi')\n",
        "print (st.pearsonr(data['time'], data['age']))"
      ],
      "execution_count": null,
      "outputs": [
        {
          "output_type": "stream",
          "name": "stdout",
          "text": [
            "mối liên hệ giữa thời gian theo dõi và tuổi\n",
            "(-0.22406841997203522, 9.30319880215916e-05)\n"
          ]
        }
      ]
    },
    {
      "cell_type": "code",
      "metadata": {
        "colab": {
          "base_uri": "https://localhost:8080/",
          "height": 758
        },
        "id": "IHjwIXm4GFMT",
        "outputId": "918f0dae-edb6-4f64-945f-a20cf7a0fb9d"
      },
      "source": [
        "scat1= seaborn.regplot(x='age',y='time',data=df)\n",
        "plt.xlabel('Thời gian theo dõi bệnh')\n",
        "plt.ylabel('trường hợp tử vong')\n",
        "plt.title('Scatterplot cho mối liên hệ giữa tuổi và tử vong do bệnh tim') #tìm đc đường phù hợp\n",
        "\n",
        "#tìm hệ số \n",
        "print('mô hình hồi quy OLS cho mối liên hệ giữa tuổi và thời gian tử vong do bệnh tim')\n",
        "reg1= smf.ols('time ~ age',data=df).fit()# biến phản hồi ~ biến giải thích\n",
        "print(reg1.summary())\n",
        "\n"
      ],
      "execution_count": null,
      "outputs": [
        {
          "output_type": "stream",
          "name": "stdout",
          "text": [
            "mô hình hồi quy OLS cho mối liên hệ giữa tuổi và thời gian tử vong do bệnh tim\n",
            "                            OLS Regression Results                            \n",
            "==============================================================================\n",
            "Dep. Variable:                   time   R-squared:                       0.050\n",
            "Model:                            OLS   Adj. R-squared:                  0.047\n",
            "Method:                 Least Squares   F-statistic:                     15.70\n",
            "Date:                Fri, 29 Oct 2021   Prob (F-statistic):           9.30e-05\n",
            "Time:                        09:21:37   Log-Likelihood:                -1717.2\n",
            "No. Observations:                 299   AIC:                             3438.\n",
            "Df Residuals:                     297   BIC:                             3446.\n",
            "Df Model:                           1                                         \n",
            "Covariance Type:            nonrobust                                         \n",
            "==============================================================================\n",
            "                 coef    std err          t      P>|t|      [0.025      0.975]\n",
            "------------------------------------------------------------------------------\n",
            "Intercept    219.2035     22.871      9.584      0.000     174.194     264.213\n",
            "age           -1.4621      0.369     -3.962      0.000      -2.188      -0.736\n",
            "==============================================================================\n",
            "Omnibus:                      115.994   Durbin-Watson:                   0.103\n",
            "Prob(Omnibus):                  0.000   Jarque-Bera (JB):               17.001\n",
            "Skew:                           0.119   Prob(JB):                     0.000203\n",
            "Kurtosis:                       1.857   Cond. No.                         324.\n",
            "==============================================================================\n",
            "\n",
            "Warnings:\n",
            "[1] Standard Errors assume that the covariance matrix of the errors is correctly specified.\n"
          ]
        },
        {
          "output_type": "display_data",
          "data": {
            "image/png": "[encoded data removed]",
            "text/plain": [
              "<Figure size 432x288 with 1 Axes>"
            ]
          },
          "metadata": {
            "needs_background": "light"
          }
        }
      ]
    },
    {
      "cell_type": "code",
      "metadata": {
        "id": "-fzt39gAGU_r",
        "colab": {
          "base_uri": "https://localhost:8080/"
        },
        "outputId": "bf923682-8a92-43df-96ba-bbebbd80a84a"
      },
      "source": [
        "#tìm hệ số \n",
        "print('mô hình hồi quy OLS cho mối liên hệ giữa tuổi và thời gian tử vong do bệnh tim')\n",
        "reg1= smf.ols('age ~ DEATH_EVENT',data=df).fit()# biến phản hồi ~ biến giải thích\n",
        "print(reg1.summary())\n"
      ],
      "execution_count": null,
      "outputs": [
        {
          "output_type": "stream",
          "name": "stdout",
          "text": [
            "mô hình hồi quy OLS cho mối liên hệ giữa tuổi và thời gian tử vong do bệnh tim\n",
            "                            OLS Regression Results                            \n",
            "==============================================================================\n",
            "Dep. Variable:                    age   R-squared:                       0.064\n",
            "Model:                            OLS   Adj. R-squared:                  0.061\n",
            "Method:                 Least Squares   F-statistic:                     20.44\n",
            "Date:                Fri, 29 Oct 2021   Prob (F-statistic):           8.92e-06\n",
            "Time:                        09:21:39   Log-Likelihood:                -1154.2\n",
            "No. Observations:                 299   AIC:                             2312.\n",
            "Df Residuals:                     297   BIC:                             2320.\n",
            "Df Model:                           1                                         \n",
            "Covariance Type:            nonrobust                                         \n",
            "===============================================================================\n",
            "                  coef    std err          t      P>|t|      [0.025      0.975]\n",
            "-------------------------------------------------------------------------------\n",
            "Intercept      58.7619      0.809     72.645      0.000      57.170      60.354\n",
            "DEATH_EVENT     6.4534      1.428      4.521      0.000       3.644       9.263\n",
            "==============================================================================\n",
            "Omnibus:                        6.795   Durbin-Watson:                   2.003\n",
            "Prob(Omnibus):                  0.033   Jarque-Bera (JB):                6.099\n",
            "Skew:                           0.284   Prob(JB):                       0.0474\n",
            "Kurtosis:                       2.590   Cond. No.                         2.42\n",
            "==============================================================================\n",
            "\n",
            "Warnings:\n",
            "[1] Standard Errors assume that the covariance matrix of the errors is correctly specified.\n"
          ]
        }
      ]
    },
    {
      "cell_type": "markdown",
      "metadata": {
        "id": "4cpp6BqHGWk8"
      },
      "source": [
        "Dep. Variable: đây là biến phản hồi... cho ta biết biến phản hồi ở đây là j \n",
        "\n",
        "chúng ta đang xét biến tuổi và biến tử vong do bệnh tim\n",
        "\n",
        "No. Observations: là số lượng dòng dữ liệu của chúng ta\n",
        "\n",
        "Prob (F-statistic): đó là giá trị P-value\n",
        "\n",
        ">> do giá trị P-value nhỏ hơn rất nhiều với mức ý nghĩa là 0.05 nên có thể bác bỏ giả thuyết vô hiệu và chứng minh rằng chúng có quan hệ chặt chẽ với nhau\n",
        "\n",
        "ở cột coef: có 2 hệ số là b và m\n",
        "\n",
        "Intercept: hệ số cắt trục tung m\n",
        "\n",
        "DEATH_EVENT: hệ số góc\n",
        "\n",
        ">> kết quả thu đc phương trình hồi quy: age=58.7619 + 6.4534 * DEATH_EVENT"
      ]
    },
    {
      "cell_type": "code",
      "metadata": {
        "colab": {
          "base_uri": "https://localhost:8080/",
          "height": 691
        },
        "id": "e3_BWzEsGYCD",
        "outputId": "ee4852d3-bdb0-411c-d2ed-a1ad9d57b558"
      },
      "source": [
        "seaborn.factorplot(x='DEATH_EVENT',y='age',data=df,kind='bar',ci=None)\n",
        "plt.ylabel('Độ tuổi của bệnh nhân')\n",
        "plt.xlabel('Tử vong')\n",
        "\n",
        "# group means & sd\n",
        "print('Trung bình')\n",
        "ds1=df.groupby('DEATH_EVENT').mean()\n",
        "print(ds1)\n",
        "print()\n",
        "print('độ lệch chuẩn')\n",
        "ds2=df.groupby('DEATH_EVENT').mean()\n",
        "print(ds2)"
      ],
      "execution_count": null,
      "outputs": [
        {
          "output_type": "stream",
          "name": "stderr",
          "text": [
            "/usr/local/lib/python3.7/dist-packages/seaborn/categorical.py:3717: UserWarning: The `factorplot` function has been renamed to `catplot`. The original name will be removed in a future release. Please update your code. Note that the default `kind` in `factorplot` (`'point'`) has changed `'strip'` in `catplot`.\n",
            "  warnings.warn(msg)\n"
          ]
        },
        {
          "output_type": "stream",
          "name": "stdout",
          "text": [
            "Trung bình\n",
            "                   age   anaemia  ...   smoking        time\n",
            "DEATH_EVENT                       ...                      \n",
            "0            58.761906  0.408867  ...  0.325123  158.339901\n",
            "1            65.215281  0.479167  ...  0.312500   70.885417\n",
            "\n",
            "[2 rows x 12 columns]\n",
            "\n",
            "độ lệch chuẩn\n",
            "                   age   anaemia  ...   smoking        time\n",
            "DEATH_EVENT                       ...                      \n",
            "0            58.761906  0.408867  ...  0.325123  158.339901\n",
            "1            65.215281  0.479167  ...  0.312500   70.885417\n",
            "\n",
            "[2 rows x 12 columns]\n"
          ]
        },
        {
          "output_type": "display_data",
          "data": {
            "image/png": "[encoded data removed]",
            "text/plain": [
              "<Figure size 360x360 with 1 Axes>"
            ]
          },
          "metadata": {
            "needs_background": "light"
          }
        }
      ]
    },
    {
      "cell_type": "code",
      "metadata": {
        "id": "K-LAII24Hmbs"
      },
      "source": [
        ""
      ],
      "execution_count": null,
      "outputs": []
    },
    {
      "cell_type": "code",
      "metadata": {
        "id": "cu19WR1qIMbm",
        "colab": {
          "base_uri": "https://localhost:8080/"
        },
        "outputId": "e1115f94-d27d-4d1e-bea1-dee0983aafa2"
      },
      "source": [
        "df['ejection_fraction_2']=(df['ejection_fraction']-df['ejection_fraction'].mean()) # mức độ creatinin huyết thanh trong máu\n",
        "print(df['ejection_fraction_2'].mean())\n",
        "\n",
        "df['age_c']=(df['age']-df['age'].mean()) # mức độ creatinin huyết thanh trong máu\n",
        "print(df['age'].mean())\n",
        "#mô hình hồi quy đa biến\n",
        "print('mô hình hồi quy đa biến')\n",
        "reg2= smf.ols('time ~ age_c + anaemia + smoking + sex + ejection_fraction_2',data=df).fit()# biến phản hồi ~ biến giải thích + tỷ lệ phần trăm máu rời khỏi tim\n",
        "print(reg2.summary())"
      ],
      "execution_count": null,
      "outputs": [
        {
          "output_type": "stream",
          "name": "stdout",
          "text": [
            "2.352633138469897e-15\n",
            "60.83389297658862\n",
            "mô hình hồi quy đa biến\n",
            "                            OLS Regression Results                            \n",
            "==============================================================================\n",
            "Dep. Variable:                   time   R-squared:                       0.069\n",
            "Model:                            OLS   Adj. R-squared:                  0.054\n",
            "Method:                 Least Squares   F-statistic:                     4.373\n",
            "Date:                Fri, 29 Oct 2021   Prob (F-statistic):           0.000744\n",
            "Time:                        09:21:45   Log-Likelihood:                -1714.2\n",
            "No. Observations:                 299   AIC:                             3440.\n",
            "Df Residuals:                     293   BIC:                             3463.\n",
            "Df Model:                           5                                         \n",
            "Covariance Type:            nonrobust                                         \n",
            "=======================================================================================\n",
            "                          coef    std err          t      P>|t|      [0.025      0.975]\n",
            "---------------------------------------------------------------------------------------\n",
            "Intercept             139.5389      8.687     16.063      0.000     122.442     156.635\n",
            "age_c                  -1.4122      0.371     -3.806      0.000      -2.142      -0.682\n",
            "anaemia               -19.8367      8.920     -2.224      0.027     -37.393      -2.280\n",
            "smoking                -5.4546     10.477     -0.521      0.603     -26.074      15.165\n",
            "sex                     1.5898     10.355      0.154      0.878     -18.790      21.970\n",
            "ejection_fraction_2     0.3802      0.375      1.015      0.311      -0.357       1.118\n",
            "==============================================================================\n",
            "Omnibus:                      105.349   Durbin-Watson:                   0.141\n",
            "Prob(Omnibus):                  0.000   Jarque-Bera (JB):               16.330\n",
            "Skew:                           0.103   Prob(JB):                     0.000284\n",
            "Kurtosis:                       1.874   Cond. No.                         36.9\n",
            "==============================================================================\n",
            "\n",
            "Warnings:\n",
            "[1] Standard Errors assume that the covariance matrix of the errors is correctly specified.\n"
          ]
        }
      ]
    },
    {
      "cell_type": "code",
      "metadata": {
        "colab": {
          "base_uri": "https://localhost:8080/",
          "height": 1000
        },
        "id": "FxC5_3p1ISPq",
        "outputId": "b8525387-441f-4612-eacb-115291564332"
      },
      "source": [
        "#Hồi quy đa thức\n",
        "scat2= seaborn.regplot(x='age',y='time',scatter=True,order=1,data=df)\n",
        "scat3= seaborn.regplot(x='age',y='time',scatter=True,order=3,data=df)\n",
        "plt.xlabel('độ tuổi')\n",
        "plt.ylabel('thời gian trị bệnh khi bị bệnh tim')\n",
        "df['age_c']=(df['age']-df['age'].mean()) # mức độ creatinin huyết thanh trong máu\n",
        "print(df['age'].mean())\n",
        "df['time_c']=(df['time']-df['time'].mean()) # mức độ creatinin huyết thanh trong máu\n",
        "print(df['time_c'].mean())\n",
        "#mô hình tuyến tính\n",
        "reg3=smf.ols('age_c ~ time_c',data=df).fit()\n",
        "print(reg3.summary())\n",
        "\n",
        "reg3=smf.ols('age_c ~ time_c + I(time_c**3)',data=df).fit()\n",
        "print(reg3.summary())"
      ],
      "execution_count": null,
      "outputs": [
        {
          "output_type": "stream",
          "name": "stdout",
          "text": [
            "60.83389297658862\n",
            "-1.1881985547827763e-13\n",
            "                            OLS Regression Results                            \n",
            "==============================================================================\n",
            "Dep. Variable:                  age_c   R-squared:                       0.050\n",
            "Model:                            OLS   Adj. R-squared:                  0.047\n",
            "Method:                 Least Squares   F-statistic:                     15.70\n",
            "Date:                Fri, 29 Oct 2021   Prob (F-statistic):           9.30e-05\n",
            "Time:                        09:21:47   Log-Likelihood:                -1156.4\n",
            "No. Observations:                 299   AIC:                             2317.\n",
            "Df Residuals:                     297   BIC:                             2324.\n",
            "Df Model:                           1                                         \n",
            "Covariance Type:            nonrobust                                         \n",
            "==============================================================================\n",
            "                 coef    std err          t      P>|t|      [0.025      0.975]\n",
            "------------------------------------------------------------------------------\n",
            "Intercept   5.163e-15      0.672   7.69e-15      1.000      -1.322       1.322\n",
            "time_c        -0.0343      0.009     -3.962      0.000      -0.051      -0.017\n",
            "==============================================================================\n",
            "Omnibus:                        7.277   Durbin-Watson:                   2.035\n",
            "Prob(Omnibus):                  0.026   Jarque-Bera (JB):                7.083\n",
            "Skew:                           0.336   Prob(JB):                       0.0290\n",
            "Kurtosis:                       2.656   Cond. No.                         77.5\n",
            "==============================================================================\n",
            "\n",
            "Warnings:\n",
            "[1] Standard Errors assume that the covariance matrix of the errors is correctly specified.\n",
            "                            OLS Regression Results                            \n",
            "==============================================================================\n",
            "Dep. Variable:                  age_c   R-squared:                       0.058\n",
            "Model:                            OLS   Adj. R-squared:                  0.051\n",
            "Method:                 Least Squares   F-statistic:                     9.057\n",
            "Date:                Fri, 29 Oct 2021   Prob (F-statistic):           0.000152\n",
            "Time:                        09:21:47   Log-Likelihood:                -1155.2\n",
            "No. Observations:                 299   AIC:                             2316.\n",
            "Df Residuals:                     296   BIC:                             2328.\n",
            "Df Model:                           2                                         \n",
            "Covariance Type:            nonrobust                                         \n",
            "==================================================================================\n",
            "                     coef    std err          t      P>|t|      [0.025      0.975]\n",
            "----------------------------------------------------------------------------------\n",
            "Intercept          0.1533      0.677      0.226      0.821      -1.180       1.487\n",
            "time_c            -0.0065      0.020     -0.324      0.746      -0.046       0.033\n",
            "I(time_c ** 3) -2.592e-06   1.69e-06     -1.531      0.127   -5.92e-06     7.4e-07\n",
            "==============================================================================\n",
            "Omnibus:                        6.387   Durbin-Watson:                   2.052\n",
            "Prob(Omnibus):                  0.041   Jarque-Bera (JB):                6.392\n",
            "Skew:                           0.328   Prob(JB):                       0.0409\n",
            "Kurtosis:                       2.711   Cond. No.                     9.33e+05\n",
            "==============================================================================\n",
            "\n",
            "Warnings:\n",
            "[1] Standard Errors assume that the covariance matrix of the errors is correctly specified.\n",
            "[2] The condition number is large, 9.33e+05. This might indicate that there are\n",
            "strong multicollinearity or other numerical problems.\n"
          ]
        },
        {
          "output_type": "display_data",
          "data": {
            "image/png": "[encoded data removed]",
            "text/plain": [
              "<Figure size 432x288 with 1 Axes>"
            ]
          },
          "metadata": {
            "needs_background": "light"
          }
        }
      ]
    },
    {
      "cell_type": "markdown",
      "metadata": {
        "id": "P0Wfqix5I5gX"
      },
      "source": [
        "màu xanh hồi quy tuyến tính\n",
        "\n",
        "còn màu cao là hồi quy da thức: cho ta bậc cao\n",
        "\n",
        "cho thấy P nhỏ hơn 0.05--> có ý nghĩa\n",
        "\n",
        "R-squared: hệ số pearson 5% cho thấy mối quan hệ giữa 2 biến gần như =0\n",
        "\n",
        "Nếu sét theo mô hình tuyến tính--> hệ số tương quan ko có quan hệ chặt chẽ"
      ]
    },
    {
      "cell_type": "code",
      "metadata": {
        "colab": {
          "base_uri": "https://localhost:8080/"
        },
        "id": "5CgSv9QqszyQ",
        "outputId": "b6d62cc1-516d-4acf-f475-23054ab8d527"
      },
      "source": [
        "data['sex'] =pd.to_numeric(data['sex'], errors='coerce')\n",
        "data['anaemia'] =pd.to_numeric(data['anaemia'], errors='coerce')\n",
        "data['DEATH_EVENT'] =pd.to_numeric(data['DEATH_EVENT'], errors='coerce')\n",
        "sub1['age_cd'] = sub1['age'] \n",
        "\n",
        "# canh chuẩn dữ liệu tuổi \n",
        "sub1[\"age\"] = np.divide(sub1[\"age\"] - sub1[\"age\"].min(), sub1[\"age\"].max() - sub1[\"age\"].min())\n",
        "#for x in range(sub1['age'].count()-1):\n",
        " # if(sub1['age'][x]>=70):\n",
        " #   sub1['age_cd'][x]= 1\n",
        "  #else:\n",
        "   # sub1['age_cd'][x]= 0\n",
        "\n",
        "#print(sub1[['age','age_cd']].head(50))\n",
        "lreg1 = smf.logit(formula = 'age ~ DEATH_EVENT ', data = sub1).fit()\n",
        "print (lreg1.summary())"
      ],
      "execution_count": null,
      "outputs": [
        {
          "output_type": "stream",
          "name": "stdout",
          "text": [
            "Optimization terminated successfully.\n",
            "         Current function value: 0.629280\n",
            "         Iterations 4\n",
            "                           Logit Regression Results                           \n",
            "==============================================================================\n",
            "Dep. Variable:                    age   No. Observations:                  299\n",
            "Model:                          Logit   Df Residuals:                      297\n",
            "Method:                           MLE   Df Model:                            1\n",
            "Date:                Fri, 29 Oct 2021   Pseudo R-squ.:                 -0.1231\n",
            "Time:                        09:21:49   Log-Likelihood:                -188.15\n",
            "converged:                       True   LL-Null:                       -167.53\n",
            "Covariance Type:            nonrobust   LLR p-value:                     1.000\n",
            "===============================================================================\n",
            "                  coef    std err          z      P>|z|      [0.025      0.975]\n",
            "-------------------------------------------------------------------------------\n",
            "Intercept      -0.6583      0.148     -4.447      0.000      -0.948      -0.368\n",
            "DEATH_EVENT     0.4917      0.253      1.946      0.052      -0.004       0.987\n",
            "===============================================================================\n"
          ]
        }
      ]
    },
    {
      "cell_type": "code",
      "metadata": {
        "colab": {
          "base_uri": "https://localhost:8080/"
        },
        "id": "y589y-qfIwt5",
        "outputId": "25a7c9ae-661a-499c-db8c-bbb1e3f7ebfb"
      },
      "source": [
        "#hồi quy logistic đơn biến: 1 x--> 1y\n",
        "Ireg1=smf.logit(formula='DEATH_EVENT ~ age',data=df).fit()# biến giải thích ~ biến phản hồi\n",
        "print(Ireg1.summary())\n",
        "\n",
        "#tìm ODD\n",
        "print('ODD') #tỉ số giữa xác suất hiện biến cố và không hiện biến cố\n",
        "print(np.exp(Ireg1.params))\n",
        "#==> kết luận: người có độ tuổi càng cao thì có nguy cơ tử vong cao hơn 1.04 lần so với người bình thường\n",
        "\n",
        "# conf=  Ireg1.conf_int()\n",
        "# conf['ODD']=Ireg1.params()\n",
        "# conf.columns=['Lower CI', ' Upper CI', 'ODD']\n",
        "# print(np.exp(conf))\n"
      ],
      "execution_count": null,
      "outputs": [
        {
          "output_type": "stream",
          "name": "stdout",
          "text": [
            "Optimization terminated successfully.\n",
            "         Current function value: 0.595306\n",
            "         Iterations 5\n",
            "                           Logit Regression Results                           \n",
            "==============================================================================\n",
            "Dep. Variable:            DEATH_EVENT   No. Observations:                  299\n",
            "Model:                          Logit   Df Residuals:                      297\n",
            "Method:                           MLE   Df Model:                            1\n",
            "Date:                Fri, 29 Oct 2021   Pseudo R-squ.:                 0.05157\n",
            "Time:                        06:30:53   Log-Likelihood:                -178.00\n",
            "converged:                       True   LL-Null:                       -187.67\n",
            "Covariance Type:            nonrobust   LLR p-value:                 1.085e-05\n",
            "==============================================================================\n",
            "                 coef    std err          z      P>|z|      [0.025      0.975]\n",
            "------------------------------------------------------------------------------\n",
            "Intercept     -3.6543      0.707     -5.172      0.000      -5.039      -2.269\n",
            "age            0.0469      0.011      4.241      0.000       0.025       0.069\n",
            "==============================================================================\n",
            "ODD\n",
            "Intercept    0.025879\n",
            "age          1.048069\n",
            "dtype: float64\n"
          ]
        }
      ]
    },
    {
      "cell_type": "code",
      "metadata": {
        "colab": {
          "base_uri": "https://localhost:8080/",
          "height": 334
        },
        "id": "wDcb2CghS-CP",
        "outputId": "8a186c6a-193f-4a3d-f082-f1105fa018a3"
      },
      "source": [
        "#lreg1 = smf.logit(formula = ' ~ DEATH_EVENT  ', data = sub1).fit()\n",
        "#print (lreg1.summary())"
      ],
      "execution_count": null,
      "outputs": [
        {
          "output_type": "error",
          "ename": "ValueError",
          "evalue": "ignored",
          "traceback": [
            "\u001b[0;31m---------------------------------------------------------------------------\u001b[0m",
            "\u001b[0;31mValueError\u001b[0m                                Traceback (most recent call last)",
            "\u001b[0;32m<ipython-input-37-a77d940ab989>\u001b[0m in \u001b[0;36m<module>\u001b[0;34m()\u001b[0m\n\u001b[0;32m----> 1\u001b[0;31m \u001b[0mlreg1\u001b[0m \u001b[0;34m=\u001b[0m \u001b[0msmf\u001b[0m\u001b[0;34m.\u001b[0m\u001b[0mlogit\u001b[0m\u001b[0;34m(\u001b[0m\u001b[0mformula\u001b[0m \u001b[0;34m=\u001b[0m \u001b[0;34m'time ~ DEATH_EVENT  '\u001b[0m\u001b[0;34m,\u001b[0m \u001b[0mdata\u001b[0m \u001b[0;34m=\u001b[0m \u001b[0msub1\u001b[0m\u001b[0;34m)\u001b[0m\u001b[0;34m.\u001b[0m\u001b[0mfit\u001b[0m\u001b[0;34m(\u001b[0m\u001b[0;34m)\u001b[0m\u001b[0;34m\u001b[0m\u001b[0;34m\u001b[0m\u001b[0m\n\u001b[0m\u001b[1;32m      2\u001b[0m \u001b[0mprint\u001b[0m \u001b[0;34m(\u001b[0m\u001b[0mlreg1\u001b[0m\u001b[0;34m.\u001b[0m\u001b[0msummary\u001b[0m\u001b[0;34m(\u001b[0m\u001b[0;34m)\u001b[0m\u001b[0;34m)\u001b[0m\u001b[0;34m\u001b[0m\u001b[0;34m\u001b[0m\u001b[0m\n",
            "\u001b[0;32m/usr/local/lib/python3.7/dist-packages/statsmodels/base/model.py\u001b[0m in \u001b[0;36mfrom_formula\u001b[0;34m(cls, formula, data, subset, drop_cols, *args, **kwargs)\u001b[0m\n\u001b[1;32m    176\u001b[0m                        \u001b[0;34m'formula'\u001b[0m\u001b[0;34m:\u001b[0m \u001b[0mformula\u001b[0m\u001b[0;34m,\u001b[0m  \u001b[0;31m# attach formula for unpckling\u001b[0m\u001b[0;34m\u001b[0m\u001b[0;34m\u001b[0m\u001b[0m\n\u001b[1;32m    177\u001b[0m                        'design_info': design_info})\n\u001b[0;32m--> 178\u001b[0;31m         \u001b[0mmod\u001b[0m \u001b[0;34m=\u001b[0m \u001b[0mcls\u001b[0m\u001b[0;34m(\u001b[0m\u001b[0mendog\u001b[0m\u001b[0;34m,\u001b[0m \u001b[0mexog\u001b[0m\u001b[0;34m,\u001b[0m \u001b[0;34m*\u001b[0m\u001b[0margs\u001b[0m\u001b[0;34m,\u001b[0m \u001b[0;34m**\u001b[0m\u001b[0mkwargs\u001b[0m\u001b[0;34m)\u001b[0m\u001b[0;34m\u001b[0m\u001b[0;34m\u001b[0m\u001b[0m\n\u001b[0m\u001b[1;32m    179\u001b[0m         \u001b[0mmod\u001b[0m\u001b[0;34m.\u001b[0m\u001b[0mformula\u001b[0m \u001b[0;34m=\u001b[0m \u001b[0mformula\u001b[0m\u001b[0;34m\u001b[0m\u001b[0;34m\u001b[0m\u001b[0m\n\u001b[1;32m    180\u001b[0m \u001b[0;34m\u001b[0m\u001b[0m\n",
            "\u001b[0;32m/usr/local/lib/python3.7/dist-packages/statsmodels/discrete/discrete_model.py\u001b[0m in \u001b[0;36m__init__\u001b[0;34m(self, endog, exog, **kwargs)\u001b[0m\n\u001b[1;32m    430\u001b[0m         if (not issubclass(self.__class__, MultinomialModel) and\n\u001b[1;32m    431\u001b[0m                 not np.all((self.endog >= 0) & (self.endog <= 1))):\n\u001b[0;32m--> 432\u001b[0;31m             \u001b[0;32mraise\u001b[0m \u001b[0mValueError\u001b[0m\u001b[0;34m(\u001b[0m\u001b[0;34m\"endog must be in the unit interval.\"\u001b[0m\u001b[0;34m)\u001b[0m\u001b[0;34m\u001b[0m\u001b[0;34m\u001b[0m\u001b[0m\n\u001b[0m\u001b[1;32m    433\u001b[0m \u001b[0;34m\u001b[0m\u001b[0m\n\u001b[1;32m    434\u001b[0m \u001b[0;34m\u001b[0m\u001b[0m\n",
            "\u001b[0;31mValueError\u001b[0m: endog must be in the unit interval."
          ]
        }
      ]
    },
    {
      "cell_type": "markdown",
      "metadata": {
        "id": "igaiuRjHJD7m"
      },
      "source": [
        "No. Observations: số lượng quan sát\n",
        "\n",
        "Dep. Variable: biến phản hồi\n",
        "\n",
        ">> phương trình thu đc: Death_event= -3.6543 + 0.0469* age\n",
        "\n",
        "==> phương trình này ko phù hợp nếu thực hiện hồi quy logistic... biến phản hồi chỉ nhận 0 or 1 ... nên khi sử dụng mô hình này tìm đường phù hợp thì ko đc\n",
        "\n",
        ">>==> nhận xét: có 97.5% khả năng ODD của"
      ]
    },
    {
      "cell_type": "code",
      "metadata": {
        "id": "uOPua1mPLFeX"
      },
      "source": [
        "from sklearn import model_selection\n",
        "from sklearn.metrics import classification_report,confusion_matrix, accuracy_score\n",
        "from sklearn.tree import DecisionTreeClassifier\n",
        "from sklearn import tree\n",
        "from sklearn import datasets\n",
        "from sklearn.model_selection import train_test_split\n",
        "\n",
        "import cv2"
      ],
      "execution_count": null,
      "outputs": []
    },
    {
      "cell_type": "code",
      "metadata": {
        "id": "9BrwjZa7LNpJ"
      },
      "source": [
        "import sklearn"
      ],
      "execution_count": null,
      "outputs": []
    },
    {
      "cell_type": "code",
      "metadata": {
        "colab": {
          "base_uri": "https://localhost:8080/"
        },
        "id": "GHgNqwb2I9xR",
        "outputId": "3e7e413b-7e22-42f0-9e76-83575333aec9"
      },
      "source": [
        "array= df.values\n",
        "x= array[:,0:12] #features\n",
        "y= array[:,12] #label/target\n",
        "x_train, x_test, y_train, y_test= train_test_split(x,y,test_size=0.2,random_state=0)\n",
        "\n",
        "#max_depth: độ sâu của cây\n",
        "clf=tree.DecisionTreeClassifier(max_depth=10)\n",
        "clf=clf.fit(x_train,y_train)\n",
        "\n",
        "#dự đoán: \n",
        "pre=clf.predict(x_test)\n",
        "print(pre)\n",
        "print()\n",
        "print(y_test)\n",
        "print()\n",
        "\n",
        "conf_ma=sklearn.metrics.confusion_matrix(y_test,pre)\n",
        "acc_sore=sklearn.metrics.accuracy_score(y_test,pre)\n",
        "\n",
        "#confusion matrix: những cái j trên đường chéo chính là nó dự đoán đúng\n",
        "print(conf_ma)\n",
        "print()\n",
        "print(acc_sore)\n",
        "\n",
        "# vẽ cây\n",
        "feauture= df.columns[0:12] # getidicator feature\n",
        "target= df['DEATH_EVENT'].unique()\n",
        "print(target)\n",
        "\n",
        "dot_data= tree.export_graphviz(clf,out_file='/content/drive/MyDrive/tree_ID3.txt'\n",
        "                               ,feature_names=feauture\n",
        "                               ,class_names=str(target))\n",
        "#"
      ],
      "execution_count": null,
      "outputs": [
        {
          "output_type": "stream",
          "name": "stdout",
          "text": [
            "[0. 0. 0. 0. 0. 0. 1. 0. 1. 0. 0. 1. 1. 0. 1. 1. 0. 0. 0. 0. 1. 1. 0. 0.\n",
            " 1. 0. 0. 0. 0. 0. 0. 1. 1. 0. 0. 0. 0. 0. 0. 1. 0. 1. 0. 1. 1. 0. 0. 1.\n",
            " 0. 1. 1. 0. 0. 0. 1. 1. 0. 1. 0. 0.]\n",
            "\n",
            "[0. 0. 1. 0. 0. 0. 0. 0. 1. 0. 0. 1. 1. 1. 1. 1. 0. 0. 0. 0. 0. 0. 1. 0.\n",
            " 1. 0. 1. 0. 0. 0. 0. 1. 1. 0. 1. 1. 0. 1. 0. 1. 0. 0. 0. 1. 1. 0. 0. 0.\n",
            " 1. 1. 0. 0. 0. 0. 1. 1. 0. 1. 0. 0.]\n",
            "\n",
            "[[31  6]\n",
            " [ 8 15]]\n",
            "\n",
            "0.7666666666666667\n",
            "[1 0]\n"
          ]
        }
      ]
    },
    {
      "cell_type": "markdown",
      "metadata": {
        "id": "tNWtTez7LsFB"
      },
      "source": [
        "#kết quả dự đoán của huấn luyện \n",
        "\n",
        "kết quả chết có 37 thì 31 đúng 6 sai \n",
        "\n",
        "kết quả sống có 23 mẫu 8 đúng 15 sai \n"
      ]
    },
    {
      "cell_type": "code",
      "metadata": {
        "id": "2hPfz1MZMfDp"
      },
      "source": [
        ""
      ],
      "execution_count": null,
      "outputs": []
    }
  ]
}